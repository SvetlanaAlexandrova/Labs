{
  "metadata": {
    "language_info": {
      "codemirror_mode": {
        "name": "python",
        "version": 3
      },
      "file_extension": ".py",
      "mimetype": "text/x-python",
      "name": "python",
      "nbconvert_exporter": "python",
      "pygments_lexer": "ipython3",
      "version": "3.8"
    },
    "kernelspec": {
      "name": "python",
      "display_name": "Python (Pyodide)",
      "language": "python"
    }
  },
  "nbformat_minor": 4,
  "nbformat": 4,
  "cells": [
    {
      "cell_type": "code",
      "source": "# 1\na = [1, 2, 3, 4, 5]\nprint(a[0], a[2], a[-2])",
      "metadata": {
        "trusted": true
      },
      "execution_count": 2,
      "outputs": [
        {
          "name": "stdout",
          "text": "1 3 4\n",
          "output_type": "stream"
        }
      ]
    },
    {
      "cell_type": "code",
      "source": "# 2\ndef stepen(a, N):\n    try:\n        a[N] = pow(a[N], N)\n    except IndexError:\n        return -1\n    else:\n        return a[N]\nN = 3\nstepen(a, N)\nprint(a)",
      "metadata": {
        "trusted": true
      },
      "execution_count": 3,
      "outputs": [
        {
          "name": "stdout",
          "text": "[1, 2, 3, 64, 5]\n",
          "output_type": "stream"
        }
      ]
    },
    {
      "cell_type": "code",
      "source": "# 3\nstring = \"akjcvuyjhafjk\"\nsymbol = 'a'\nindexes = [i for i, a in enumerate(string) if a == symbol]\ntry:\n    print(indexes[1])\nexcept IndexError:\n    if len(indexes) == 0:\n        print('Не найден символ')\n    else:\n        print('Не найден второй индекс')",
      "metadata": {
        "trusted": true
      },
      "execution_count": 5,
      "outputs": [
        {
          "name": "stdout",
          "text": "9\n",
          "output_type": "stream"
        }
      ]
    },
    {
      "cell_type": "code",
      "source": "# 4\nnumber = '00100111000000'\nnumber = number[::-1]\nprint(number)\ncount = 0\nfor n in number:\n    if n == '0':\n        count += 1\n    else:\n        break\nprint(count)",
      "metadata": {
        "trusted": true
      },
      "execution_count": 6,
      "outputs": [
        {
          "name": "stdout",
          "text": "00000011100100\n6\n",
          "output_type": "stream"
        }
      ]
    },
    {
      "cell_type": "code",
      "source": "# 5\nstring = \"175937\"\nstring = string[::-1]\nprint(string)",
      "metadata": {
        "trusted": true
      },
      "execution_count": 7,
      "outputs": [
        {
          "name": "stdout",
          "text": "739571\n",
          "output_type": "stream"
        }
      ]
    },
    {
      "cell_type": "code",
      "source": "# 6\nb = [0, 0, 0, 0, 0]\ncheck = False\nfor i in range(0, len(b)-1):\n    if b[i] == b[i+1]:\n        check = True\n    else:\n        check = False\n        break\nprint(check)",
      "metadata": {
        "trusted": true
      },
      "execution_count": 2,
      "outputs": [
        {
          "name": "stdout",
          "text": "True\n",
          "output_type": "stream"
        }
      ]
    },
    {
      "cell_type": "code",
      "source": "# 7\npassword = \"nfufhnGv4nт6493gmfc5\"\nif len(password) < 16:\n    print('Длина пароля должна быть не меньше 16')\nelif not password.isalnum():\n    print('Пароль не должен содержать символы')\nelse:\n    check_Upper, check_Lower, check_Number, check_Letter = False, False, False, False\n    for symbol in password:\n        if symbol == symbol.upper():\n            check_Upper = True\n        if symbol == symbol.lower():\n            check_Lower = True\n        if symbol.isdigit():\n            check_Number = True\n        if symbol.isalpha():\n            check_Letter = True\n    if not check_Letter:\n        print('Пароль должен содержать хотя бы одну букву')\n    elif not check_Lower:\n        print('Пароль должен содержать хотя бы одну строчную букву')\n    elif not check_Upper:\n        print('Пароль должен содержать хотя бы одну заглавную букву')\n    elif not check_Number:\n        print('Пароль должен содержать хотя бы одну цифру')\n    else:\n        print('Пароль соответствует условиям')",
      "metadata": {
        "trusted": true
      },
      "execution_count": 15,
      "outputs": [
        {
          "name": "stdout",
          "text": "Пароль соответствует условиям\n",
          "output_type": "stream"
        }
      ]
    },
    {
      "cell_type": "code",
      "source": "# 8\nls = [3, 5, [1, 2], 4, [6, 7]]\nflat_list = []\nfor sublist in ls:\n    if hasattr(sublist, '__iter__'):\n        for item in sublist:\n            flat_list.append(item)\n    else: \n        flat_list.append(sublist)\nif any(isinstance(i, list) for i in flat_list):\n    flatten(flat_list)\nelse:\n    print('Вытянутый список: ', flat_list) ",
      "metadata": {
        "trusted": true
      },
      "execution_count": 19,
      "outputs": [
        {
          "name": "stdout",
          "text": "Вытянутый список:  [3, 5, 1, 2, 4, 6, 7]\n",
          "output_type": "stream"
        }
      ]
    },
    {
      "cell_type": "code",
      "source": "# 9\ndic = {'a':50, 'b':9600, 'c': 640,'d':4643, 'e':67937765, 'f': 20}\nprint ('Ключ максимального значения в словаре: ', max(dic, key=dic.get))",
      "metadata": {
        "trusted": true
      },
      "execution_count": 37,
      "outputs": [
        {
          "name": "stdout",
          "text": "Ключ максимального значения в словаре:  e\n",
          "output_type": "stream"
        }
      ]
    },
    {
      "cell_type": "code",
      "source": "# 10\nnumbers = [1, 2, 3, 1, 3]\nsame_numbers = []\ncheck = False\nfor item1 in range(len(numbers)):\n    for item2 in range(len(numbers)):\n        if item1 != item2:\n            if numbers[item1] == numbers[item2]:\n                check = True\n                break\n            else:\n                    check = False\n    if check:\n        same_numbers.append(numbers[item1])\nprint('Неуникальные значения: ', same_numbers)",
      "metadata": {
        "trusted": true
      },
      "execution_count": 36,
      "outputs": [
        {
          "name": "stdout",
          "text": "Неуникальные значения:  [1, 3, 1, 3]\n",
          "output_type": "stream"
        }
      ]
    }
  ]
}