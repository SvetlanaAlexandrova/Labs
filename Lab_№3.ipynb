{
  "metadata": {
    "language_info": {
      "codemirror_mode": {
        "name": "python",
        "version": 3
      },
      "file_extension": ".py",
      "mimetype": "text/x-python",
      "name": "python",
      "nbconvert_exporter": "python",
      "pygments_lexer": "ipython3",
      "version": "3.8"
    },
    "kernelspec": {
      "name": "python",
      "display_name": "Python (Pyodide)",
      "language": "python"
    }
  },
  "nbformat_minor": 4,
  "nbformat": 4,
  "cells": [
    {
      "cell_type": "code",
      "source": "# 1\narr_matrix = np.array([[1, 2, 3],[4, 5, 6]])\narr_transpose = np.transpose(arr_matrix)\nprint(arr_matrix)\nprint(arr_transpose)",
      "metadata": {
        "trusted": true
      },
      "execution_count": 3,
      "outputs": [
        {
          "name": "stdout",
          "text": "[[1 2 3]\n [4 5 6]]\n[[1 4]\n [2 5]\n [3 6]]\n",
          "output_type": "stream"
        }
      ]
    },
    {
      "cell_type": "code",
      "source": "# 2\ndef assign_pets(lst):\n    pets_dict = {}\n    for tup in lst:\n        owner = '{0} {1}'.format(tup[2], tup[3])\n        pets = '{0}, возраст - {1}'.format(tup[0], tup[1])\n        # pets_dict.setdefault(owner, list()).append(pets)\n        if owner not in pets_dict:\n            pets_dict.setdefault(owner, pets)\n        else:\n            pets_dict.update({owner: pets_dict.get(owner) + '; ' + pets})\n    return pets_dict\nlst = [('Муся', 7, 'Игорь', 'Бероев'), ('Изольда', 2, 'Игорь', 'Бероев')]\nprint(assign_pets(lst))",
      "metadata": {
        "trusted": true
      },
      "execution_count": 9,
      "outputs": [
        {
          "name": "stdout",
          "text": "{'Игорь Бероев': 'Муся, возраст - 7; Изольда, возраст - 2'}\n",
          "output_type": "stream"
        }
      ]
    },
    {
      "cell_type": "code",
      "source": "# 3\nfrom collections import Counter\ndef rarest_word(string):\n    if not string or string.isdigit():\n        return 'Слов нет'\n    new_string = ''\n    for i in string:\n        if i.isalpha() or i.isspace():\n            new_string = new_string + i.lower()\n    split_string = new_string.split()\n    word_freqs = Counter(split_string)\n    if not word_freqs: \n        return 'Слов нет'\n    words = [i for i in word_freqs if word_freqs.get(i) == min(word_freqs.values())]\n    return sorted(words)[0]\nstring = 'Дом, милый дом'\nprint(rarest_word(string))",
      "metadata": {
        "trusted": true
      },
      "execution_count": 12,
      "outputs": [
        {
          "name": "stdout",
          "text": "милый\n",
          "output_type": "stream"
        }
      ]
    },
    {
      "cell_type": "code",
      "source": "# 4\nfrom collections import Counter\ndef most_frequent_word(string):\n    if not string or string.isdigit():\n        return 'Букв нет'\n    new_string = ''.join(filter(str.isalpha, string.lower()))\n    letters = Counter(new_string)\n    if not letters:\n        return 'Букв нет'\n    max_value = max(letters.values())\n    max_letters = [i for i in letters if letters[i] == max_value]\n    return sorted(max_letters)[0]\nstring = 'Life is a nightmare that prevents one from sleeping'\nprint(most_frequent_word(string))",
      "metadata": {
        "trusted": true
      },
      "execution_count": 34,
      "outputs": [
        {
          "name": "stdout",
          "text": "e\n",
          "output_type": "stream"
        }
      ]
    },
    {
      "cell_type": "code",
      "source": "# 5\ndef palindrome(string):\n    # убираем пробелы\n    string = string.replace(' ', '')\n    result = True\n    if len(string) > 1:\n        if string[0].lower() == string[-1].lower():\n            result = palindrome(string[1:-1])\n        else:\n            result = False\n    return result\nstring = 'аргентина манит негра'\nprint(palindrome(string))",
      "metadata": {
        "trusted": true
      },
      "execution_count": 4,
      "outputs": [
        {
          "name": "stdout",
          "text": "True\n",
          "output_type": "stream"
        }
      ]
    },
    {
      "cell_type": "code",
      "source": "# 6\nfrom collections import Counter\ndef freq_sort(array): \n    nums = Counter(array)\n    inverse_nums = {}\n    for key, value in nums.items():\n        inverse_nums.setdefault(value, list()).append(key)\n    sorted_nums = dict(sorted(inverse_nums.items()))\n    result = []\n    for key, value in sorted_nums.items():\n        for numbers in value:\n            result.extend([numbers for i in range(key)])\n    return result\narray = ['арбуз', 'банан', 'Вишня', 'дыня', 'яблоко', 'арбуз']\nprint(freq_sort(array))",
      "metadata": {
        "trusted": true
      },
      "execution_count": 38,
      "outputs": [
        {
          "name": "stdout",
          "text": "['банан', 'Вишня', 'дыня', 'яблоко', 'арбуз', 'арбуз']\n",
          "output_type": "stream"
        }
      ]
    },
    {
      "cell_type": "code",
      "source": "# 7\ndef three_conseq_words(string):\n    array = string.split()\n    count = 0\n    for i in range(len(array)):\n        count += 1\n        if not array[i].isalpha():\n            count = 0\n        if count == 3:\n            return True\n    return False\nstring = \"Лето 24 празничные дни 333 я хочу спать 45\"\nprint(three_conseq_words(string))",
      "metadata": {
        "trusted": true
      },
      "execution_count": 16,
      "outputs": [
        {
          "name": "stdout",
          "text": "True\n",
          "output_type": "stream"
        }
      ]
    },
    {
      "cell_type": "code",
      "source": "# 8\ndef max_consequence(string):\n    string = string.lower()\n    count = 1\n    save = 0\n    for i in range(len(string) - 1):\n        if string[i] == string[i + 1] and string[i].isalpha():\n            count += 1\n            save = count if save < count else save\n        else:\n            count = 1\n    return save\nstring = 'Цель искусства – раскрыть красоту и скрыть художника'\nprint(max_consequence(string))",
      "metadata": {
        "trusted": true
      },
      "execution_count": 18,
      "outputs": [
        {
          "name": "stdout",
          "text": "2\n",
          "output_type": "stream"
        }
      ]
    },
    {
      "cell_type": "code",
      "source": "# 9\n\"print(eval('1+(2+14)/(4-2)'))\"\ndef math_expression(string):\n    try:\n        return eval(string)\n    except Exception as e:\n        return e\nstring = '1+(2+14)/(4-2)'\nprint(math_expression(string))",
      "metadata": {
        "trusted": true
      },
      "execution_count": 3,
      "outputs": [
        {
          "name": "stdout",
          "text": "9.0\n",
          "output_type": "stream"
        }
      ]
    },
    {
      "cell_type": "code",
      "source": "# 10\ndef summed_dict(list_of_dicts):\n    new_dict = {}\n    for dic in list_of_dicts:\n        for key in dic.keys():\n            if key not in new_dict.keys():\n                new_dict.setdefault(key, dic.get(key))\n            else:\n                new_dict.update({key: new_dict.get(key) + dic.get(key)})\n    return new_dict\nlist_of_dicts = [{'Пирожки': 185, 'Чебуреки': 5, 'Пельмени': 100, 'Хинкали': 35, 'Чебуреки': 362}]\nprint(summed_dict(list_of_dicts))",
      "metadata": {
        "trusted": true
      },
      "execution_count": 9,
      "outputs": [
        {
          "name": "stdout",
          "text": "{'Пирожки': 185, 'Чебуреки': 362, 'Пельмени': 100, 'Хинкали': 35}\n",
          "output_type": "stream"
        }
      ]
    }
  ]
}