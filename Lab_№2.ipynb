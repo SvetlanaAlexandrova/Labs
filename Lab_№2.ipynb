{
  "metadata": {
    "language_info": {
      "codemirror_mode": {
        "name": "python",
        "version": 3
      },
      "file_extension": ".py",
      "mimetype": "text/x-python",
      "name": "python",
      "nbconvert_exporter": "python",
      "pygments_lexer": "ipython3",
      "version": "3.8"
    },
    "kernelspec": {
      "name": "python",
      "display_name": "Python (Pyodide)",
      "language": "python"
    }
  },
  "nbformat_minor": 4,
  "nbformat": 4,
  "cells": [
    {
      "cell_type": "code",
      "source": "# 1\nfib1 = fib2 = 1\nn = 2 # Номер элемента ряда Фибоначчи:\ni = 0 \nwhile i < n - 2:\n    fib_sum = fib1 + fib2\n    fib1 = fib2\n    fib2 = fib_sum\n    i += 1\nprint (\"Значение этого элемаента:\", fib2)",
      "metadata": {
        "trusted": true
      },
      "execution_count": 6,
      "outputs": [
        {
          "name": "stdout",
          "text": "Значение этого элемаента: 1\n",
          "output_type": "stream"
        }
      ]
    },
    {
      "cell_type": "code",
      "source": "# 2\ndef remove_common(a, b):\n    a, b,  = list(set(a) - set (b)), list(set(b) - set (a))\n    print (\"list1 :\", a)\n    print (\"list2 :\", b)\nif __name__ == \"__main__\":\n    a = [1,2,3,4,5,6]\n    b = [4,5,6,7,8,9]\n    remove_common(a,b)",
      "metadata": {
        "trusted": true
      },
      "execution_count": 7,
      "outputs": [
        {
          "name": "stdout",
          "text": "list1 : [1, 2, 3]\nlist2 : [8, 9, 7]\n",
          "output_type": "stream"
        }
      ]
    },
    {
      "cell_type": "code",
      "source": "# 3\n\n",
      "metadata": {},
      "execution_count": null,
      "outputs": []
    },
    {
      "cell_type": "code",
      "source": "# 4\ndef nestsum(lst):\n    flat_list = []\n    for item in ls:\n        if isinstance(item, list):\n            try:\n                elem = sum(item)\n                ftat_list.append(elem)\n            except TypeError:\n                sub_list = [flatten(item)]\n                flat_list.extend(nestsum(sub_list))\n        else:\n            flat_list.append(item)\n    return flat_list \n\ndef task4(lst):\n    print ('Исходный список:', lst)\n    print ('После замены:', nestsum(lst))",
      "metadata": {
        "trusted": true
      },
      "execution_count": 9,
      "outputs": []
    },
    {
      "cell_type": "code",
      "source": "# 5\ndef sequence(lst):\n    if len(lst) == 1:\n        return lst\n    temp, save = [], []\n    for i in range(len(lst) - 1):\n        if lst[i + 1] >= lst[i]:\n            temp.append(lst[i]) if temp == [] else temp\n            temp.append(lst[i + 1])\n            if len(save) <= len(temp):\n                save = temp\n        else:\n            temp = []\n    return save\n\ndef task5(lst):\n    print('\\tИсходный список:', lst)\n    print('\\tНаибольшая возрастающая последоватльность:', sequence(lst))",
      "metadata": {
        "trusted": true
      },
      "execution_count": 10,
      "outputs": []
    },
    {
      "cell_type": "code",
      "source": "# 6\ntext =  \"чмаф всех в чатике\"\ncount = [i for i in range(len(text))]\nprint(''.join(text[i].upper() if (i%2 != 0) else text[i] for i in count))",
      "metadata": {
        "trusted": true
      },
      "execution_count": 2,
      "outputs": [
        {
          "name": "stdout",
          "text": "чМаФ ВсЕх в чАтИкЕ\n",
          "output_type": "stream"
        }
      ]
    },
    {
      "cell_type": "code",
      "source": "# 7\nn = 5\nk = n//2\nfor i in range(k+1):\n    if i == 0:\n        print(\" \"*(k-i), '*', sep='', end='\\n')\n    else:\n        j = list(range(1,n-1,2))[i-1]\n        print(\" \"*(k-i), '*', \" \"*j, '*', sep='', end='\\n')\nfor i in range(k-1,-1,-1):\n    if i > 0:\n        j = list(range(n-k+(n-9)//2,-1,-2))[k-i-1]\n        print(\" \"*(k-i), '*', \" \"*j, '*', sep='', end='\\n')\n    else:\n        print(\" \"*(k-i), '*', sep='', end='\\n')",
      "metadata": {
        "trusted": true
      },
      "execution_count": 3,
      "outputs": [
        {
          "name": "stdout",
          "text": "  *\n * *\n*   *\n * *\n  *\n",
          "output_type": "stream"
        }
      ]
    },
    {
      "cell_type": "code",
      "source": "# 8\ndef matrix(num):\n    mat = [[0 for i in range(num) for j in range(num)]]\n    for i in range(len(mat)):\n        for j in range(len(mat[i])):\n            if i == 0 or j == 0:\n                mat[i][j] = 1\n            else:\n                mat[i][j] = mat[i - 1][j] + mat[i][j - 1]\n    return mat\n\ndef matrix_print(num):\n    mat = matrix(num)\n    for i in range(len(mat)):\n        for j in range(len(mat[i])):\n            print('\\t{:<10}'.format(mat[i][j]), end='')\n        print()\n\ndef task8(num):\n    print('\\tТаблица размером {0}:'.format(num), '\\n')\n    matrix_print(num)\n    print()",
      "metadata": {
        "trusted": true
      },
      "execution_count": 11,
      "outputs": []
    },
    {
      "cell_type": "code",
      "source": "# 9\nimport re\na = (\"В этой 1 строке 4 всего 5 четыре числа 9\")\ndigits = re.findall(\"\\d\", a)\nif not digits:\n    print('Цифры не найдены')\nelse:\n    print(eval('+'.join(digits)))",
      "metadata": {
        "trusted": true
      },
      "execution_count": 5,
      "outputs": [
        {
          "name": "stdout",
          "text": "19\n",
          "output_type": "stream"
        }
      ]
    },
    {
      "cell_type": "code",
      "source": "# 10\n\nstr = (\"В этой 1 строке 4 всего 5 четыре числа 9\")\n",
      "metadata": {},
      "execution_count": null,
      "outputs": []
    }
  ]
}